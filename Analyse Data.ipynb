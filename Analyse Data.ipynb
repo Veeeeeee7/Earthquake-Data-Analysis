{
 "cells": [
  {
   "cell_type": "code",
   "execution_count": 21,
   "id": "c303f183",
   "metadata": {
    "colab": {
     "base_uri": "https://localhost:8080/"
    },
    "id": "c303f183",
    "outputId": "2b9db263-6e7e-4dc5-cffb-c207a54e28d7"
   },
   "outputs": [
    {
     "name": "stdout",
     "output_type": "stream",
     "text": [
      "Collecting soundfile\n",
      "  Downloading soundfile-0.11.0-py2.py3-none-win_amd64.whl (1.0 MB)\n",
      "     ---------------------------------------- 1.0/1.0 MB 3.0 MB/s eta 0:00:00\n",
      "Requirement already satisfied: cffi>=1.0 in c:\\users\\helen\\anaconda3\\lib\\site-packages (from soundfile) (1.14.6)\n",
      "Requirement already satisfied: pycparser in c:\\users\\helen\\anaconda3\\lib\\site-packages (from cffi>=1.0->soundfile) (2.20)\n",
      "Installing collected packages: soundfile\n",
      "Successfully installed soundfile-0.11.0\n",
      "Note: you may need to restart the kernel to use updated packages.\n"
     ]
    },
    {
     "name": "stderr",
     "output_type": "stream",
     "text": [
      "\n",
      "[notice] A new release of pip available: 22.2.1 -> 22.3.1\n",
      "[notice] To update, run: python.exe -m pip install --upgrade pip\n"
     ]
    }
   ],
   "source": [
    "pip install soundfile"
   ]
  },
  {
   "cell_type": "code",
   "execution_count": 34,
   "id": "6b4f8e8f",
   "metadata": {},
   "outputs": [
    {
     "name": "stdout",
     "output_type": "stream",
     "text": [
      "Finished writing A-output.wav file.\n",
      "Finished writing B-output.wav file.\n"
     ]
    }
   ],
   "source": [
    "import pandas as pd\n",
    "import soundfile as sf\n",
    "\n",
    "# assume we have columns 'time' and 'value'\n",
    "df = pd.read_csv('data.csv')\n",
    "\n",
    "# compute sample rate, assuming times are in seconds\n",
    "times = df['Time (s)'].values\n",
    "n_measurements = len(times)\n",
    "timespan_seconds = times[-1] - times[0]\n",
    "sample_rate_hz = int(n_measurements / timespan_seconds)\n",
    "\n",
    "# write data\n",
    "data = df['A-output'].values\n",
    "sf.write('A-output.wav', data, sample_rate_hz)\n",
    "print(\"Finished writing A-output.wav file.\")\n",
    "\n",
    "data = df['B-output'].values\n",
    "sf.write('B-output.wav', data, sample_rate_hz)\n",
    "print(\"Finished writing B-output.wav file.\")"
   ]
  },
  {
   "cell_type": "code",
   "execution_count": 35,
   "id": "a25b080b",
   "metadata": {
    "colab": {
     "base_uri": "https://localhost:8080/",
     "height": 425
    },
    "id": "a25b080b",
    "outputId": "6efb36fd-3386-4e4e-e47f-72d8880c770f"
   },
   "outputs": [
    {
     "name": "stdout",
     "output_type": "stream",
     "text": [
      "Analyzing A-output\n",
      "Calculated frequency from FFT: 21.010746 Hz\n",
      "Calculated frequency from autocorrelation: 2.101787 Hz\n",
      "Maximum Acceleration: 0.57968\n",
      "\n",
      "Analyzing B-output\n",
      "Calculated frequency from FFT: 2.098361 Hz\n",
      "Calculated frequency from autocorrelation: 0.525113 Hz\n",
      "Maximum Acceleration: 0.336365\n"
     ]
    }
   ],
   "source": [
    "from __future__ import division\n",
    "from numpy.fft import rfft\n",
    "from numpy import argmax, mean, diff, log, nonzero\n",
    "from scipy.signal import blackmanharris, correlate\n",
    "import sys\n",
    "try:\n",
    "    import soundfile as sf\n",
    "except ImportError:\n",
    "    from scikits.audiolab import flacread\n",
    "\n",
    "def freq_from_fft(sig, fs):\n",
    "    \"\"\"\n",
    "    Estimate frequency from peak of FFT\n",
    "    \"\"\"\n",
    "    # Compute Fourier transform of windowed signal\n",
    "    windowed = sig * blackmanharris(len(sig))\n",
    "    f = rfft(windowed)\n",
    "\n",
    "    # Find the peak and interpolate to get a more accurate peak\n",
    "    i = argmax(abs(f))  # Just use this for less-accurate, naive version\n",
    "    true_i = parabolic(log(abs(f)), i)[0]\n",
    "\n",
    "    # Convert to equivalent frequency\n",
    "    return fs * true_i / len(windowed)\n",
    "\n",
    "\n",
    "def freq_from_autocorr(sig, fs):\n",
    "    \"\"\"\n",
    "    Estimate frequency using autocorrelation\n",
    "    \"\"\"\n",
    "    # Calculate autocorrelation and throw away the negative lags\n",
    "    corr = correlate(sig, sig, mode='full')\n",
    "    corr = corr[len(corr)//2:]\n",
    "\n",
    "    # Find the first low point\n",
    "    d = diff(corr)\n",
    "    start = nonzero(d > 0)[0][0]\n",
    "\n",
    "    # Find the next peak after the low point (other than 0 lag).  This bit is\n",
    "    # not reliable for long signals, due to the desired peak occurring between\n",
    "    # samples, and other peaks appearing higher.\n",
    "    # Should use a weighting function to de-emphasize the peaks at longer lags.\n",
    "    peak = argmax(corr[start:]) + start\n",
    "    px, py = parabolic(corr, peak)\n",
    "\n",
    "    return fs / px\n",
    "\n",
    "def parabolic(f, x):\n",
    "    \"\"\"Quadratic interpolation for estimating the true position of an\n",
    "    inter-sample maximum when nearby samples are known.\n",
    "    f is a vector and x is an index for that vector.\n",
    "    Returns (vx, vy), the coordinates of the vertex of a parabola that goes\n",
    "    through point x and its two neighbors.\n",
    "    Example:\n",
    "    Defining a vector f with a local maximum at index 3 (= 6), find local\n",
    "    maximum if points 2, 3, and 4 actually defined a parabola.\n",
    "    In [3]: f = [2, 3, 1, 6, 4, 2, 3, 1]\n",
    "    In [4]: parabolic(f, argmax(f))\n",
    "    Out[4]: (3.2142857142857144, 6.1607142857142856)\n",
    "    \"\"\"\n",
    "    xv = 1/2. * (f[x-1] - f[x+1]) / (f[x-1] - 2 * f[x] + f[x+1]) + x\n",
    "    yv = f[x] - 1/4. * (f[x-1] - f[x+1]) * (xv - x)\n",
    "    return (xv, yv)\n",
    "\n",
    "filenameA = \"A-output.wav\"\n",
    "filenameB = \"B-output.wav\"\n",
    "\n",
    "print('Analyzing A-output')\n",
    "try:\n",
    "    signal, fs = sf.read(filenameA)\n",
    "except NameError:\n",
    "    signal, fs, enc = flacread(filenameA)\n",
    "\n",
    "print('Calculated frequency from FFT:', end=' ')\n",
    "print('%f Hz' % freq_from_fft(signal, fs))\n",
    "\n",
    "print('Calculated frequency from autocorrelation:', end=' ')\n",
    "print('%f Hz' % freq_from_autocorr(signal, fs))\n",
    "print('Maximum Acceleration:', end=' ')\n",
    "print(max(abs(df['A-output'].max()), abs(df['A-output'].min())))\n",
    "\n",
    "print('\\nAnalyzing B-output')\n",
    "try:\n",
    "    signal, fs = sf.read(filenameB)\n",
    "except NameError:\n",
    "    signal, fs, enc = flacread(filenameB)\n",
    "\n",
    "print('Calculated frequency from FFT:', end=' ')\n",
    "print('%f Hz' % freq_from_fft(signal, fs))\n",
    "\n",
    "print('Calculated frequency from autocorrelation:', end=' ')\n",
    "print('%f Hz' % freq_from_autocorr(signal, fs))\n",
    "print('Maximum Acceleration:', end=' ')\n",
    "print(max(abs(df['B-output'].max()), abs(df['B-output'].min())))"
   ]
  },
  {
   "cell_type": "code",
   "execution_count": 36,
   "id": "a819c7e2",
   "metadata": {},
   "outputs": [
    {
     "data": {
      "image/png": "[encoded data removed]",
      "text/plain": [
       "<Figure size 432x288 with 1 Axes>"
      ]
     },
     "metadata": {
      "needs_background": "light"
     },
     "output_type": "display_data"
    }
   ],
   "source": [
    "import matplotlib.pyplot as plt\n",
    "  \n",
    "\n",
    "plt.plot(df['Time (s)'], df['A-output'], label = 'A-output')\n",
    "plt.plot(df['Time (s)'], df['B-output'], label = 'B-output')\n",
    "plt.xlabel('Time (s)')\n",
    "plt.title('A-output and B-output vs. Time')\n",
    "\n",
    "plt.show()"
   ]
  }
 ],
 "metadata": {
  "colab": {
   "provenance": []
  },
  "kernelspec": {
   "display_name": "Python 3 (ipykernel)",
   "language": "python",
   "name": "python3"
  },
  "language_info": {
   "codemirror_mode": {
    "name": "ipython",
    "version": 3
   },
   "file_extension": ".py",
   "mimetype": "text/x-python",
   "name": "python",
   "nbconvert_exporter": "python",
   "pygments_lexer": "ipython3",
   "version": "3.9.7"
  }
 },
 "nbformat": 4,
 "nbformat_minor": 5
}
